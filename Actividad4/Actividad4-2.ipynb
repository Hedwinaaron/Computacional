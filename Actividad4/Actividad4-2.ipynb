{
 "cells": [
  {
   "cell_type": "code",
   "execution_count": null,
   "metadata": {
    "collapsed": true
   },
   "outputs": [],
   "source": [
    "import matplotlib.pyplot as plt\n",
    "from scipy.optimize import curve_fit\n",
    "import numpy as np\n",
    "\n",
    "datos = np.loadtxt(\"aan.txt\")\n",
    "\n",
    "x = datos[:,0]\n",
    "y = datos[:,1]\n",
    "\n",
    "plt.plot(x, y, 'ro',label=\"Datos\")\n",
    "\n",
    "x = np.array(x, dtype=float)  \n",
    "y = np.array(y, dtype=float) \n",
    "\n",
    "def func(x, a, b):\n",
    "    return b*a**x\n",
    "\n",
    "popt, pcov = curve_fit(func, datos[:,0],datos[:,1] )\n",
    "plt.plot(x, func(x, *popt), label=\"Ajuste exponencial\") \n",
    "plt.title(\"Atmosfer standar de la tierra\")\n",
    "plt.xlabel(\"Altura(km)\")\n",
    "plt.ylabel(\"Presión(mb)\")\n",
    "plt.legend()\n",
    "plt.show()"
   ]
  }
 ],
 "metadata": {
  "kernelspec": {
   "display_name": "Python 3",
   "language": "python",
   "name": "python3"
  },
  "language_info": {
   "codemirror_mode": {
    "name": "ipython",
    "version": 3
   },
   "file_extension": ".py",
   "mimetype": "text/x-python",
   "name": "python",
   "nbconvert_exporter": "python",
   "pygments_lexer": "ipython3",
   "version": "3.5.1"
  }
 },
 "nbformat": 4,
 "nbformat_minor": 0
}
