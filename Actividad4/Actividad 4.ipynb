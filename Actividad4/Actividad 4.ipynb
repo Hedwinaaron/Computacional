{
 "cells": [
  {
   "cell_type": "code",
   "execution_count": 68,
   "metadata": {
    "collapsed": false
   },
   "outputs": [],
   "source": [
    "import matplotlib.pyplot as plt\n",
    "import numpy as np\n",
    "datos = np.loadtxt(\"ny.txt\")\n",
    "\n",
    "x = datos[:,0]\n",
    "y = datos[:,1]\n",
    "\n",
    "x1 = x.astype(np.float)\n",
    "y1 = y.astype(np.float)\n",
    "\n",
    "\n",
    "a,b = np.polyfit(datos[:,0],datos[:,1],1)\n",
    "xa = datos[:,0]\n",
    "yt = np.polyval([a,b], xa)\n",
    "plt.plot(datos[:,0] , datos[:,1] , 'o' ,label = 'Datos')\n",
    "plt.plot(xa , yt, label = 'Ajuste lineal' )\n",
    "\n",
    "plt.title(\"Temperatura de invierno en Nueva York\")\n",
    "plt.xlabel(\"Año\")\n",
    "plt.ylabel(\"Temperatura \")\n",
    "\n",
    "plt.legend()\n",
    "plt.show()"
   ]
  },
  {
   "cell_type": "code",
   "execution_count": null,
   "metadata": {
    "collapsed": true
   },
   "outputs": [],
   "source": []
  }
 ],
 "metadata": {
  "kernelspec": {
   "display_name": "Python 3",
   "language": "python",
   "name": "python3"
  },
  "language_info": {
   "codemirror_mode": {
    "name": "ipython",
    "version": 3
   },
   "file_extension": ".py",
   "mimetype": "text/x-python",
   "name": "python",
   "nbconvert_exporter": "python",
   "pygments_lexer": "ipython3",
   "version": "3.5.1"
  }
 },
 "nbformat": 4,
 "nbformat_minor": 0
}
