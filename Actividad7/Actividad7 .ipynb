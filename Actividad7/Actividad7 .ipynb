{
 "cells": [
  {
   "cell_type": "code",
   "execution_count": 16,
   "metadata": {
    "collapsed": false
   },
   "outputs": [],
   "source": [
    "import numpy as np\n",
    "import matplotlib.pyplot as plt\n",
    "from scipy.integrate import odeint\n",
    "\n",
    "#Definimos las constantes\n",
    "\n",
    "g = 9.8\n",
    "l = 1.0\n",
    "b = 0.0 \n",
    "c = g/l\n",
    "\n",
    "#Damos las condiciones iniciales\n",
    "X_f1 =np.array([-4.0*np.pi,4.0*np.pi])\n",
    "X_f2 =np.array([-2.0*np.pi,-0.0*np.pi]) \n",
    "t = np.linspace(-0.0*np.pi,5.0*np.pi,500) \n",
    "#Definimos la ecuacion diferencial del pendulo\n",
    "def p (y, t, b, c):\n",
    "    theta, omega = y\n",
    "    dy_dt = [omega,-b*omega -c*np.sin(theta)]\n",
    "    return dy_dt\n",
    "\n",
    "#Definimos el color y el numero de puntos\n",
    "\n",
    "values  = np.linspace(-1.0,1.0,100) #Numero de puntos             \n",
    "vcolors = plt.cm.Purples(np.linspace(0.5, 1.0, len(values)))#Color\n",
    "plt.figure(2)\n",
    "\n",
    "#Definimos la trayectoria 1\n",
    "for v, col in zip(values, vcolors):\n",
    "    y0 = v * X_f1                              \n",
    "    \n",
    "    X = odeint(p, y0, t, args=(b,c))         \n",
    "    plt.plot( X[:,0], X[:,1], lw=3.5*v, color=col, label='X0=(%.f, %.f)' % ( y0[0], y0[1]) )\n",
    "\n",
    "#Definimos la trayectoria 1\n",
    "for v, col in zip(values, vcolors):\n",
    "    y1 = v * X_f2                           \n",
    "    X1 = odeint(p, y1, t, args=(b,c))           \n",
    "    plt.plot( X1[:,0], X1[:,1], lw=3.5*v, color=col, label='X0=(%.f, %.f)' % ( y1[0], y1[1]) )\n",
    "\n",
    "#Grafica\n",
    "plt.title('Trayectorias')\n",
    "plt.xlabel('Angulo')\n",
    "plt.ylabel('Velocidad Angular')\n",
    "plt.grid()\n",
    "plt.xlim(-2.0*np.pi,2.0*np.pi)\n",
    "plt.ylim(-10,10)\n",
    "plt.show()"
   ]
  },
  {
   "cell_type": "code",
   "execution_count": 5,
   "metadata": {
    "collapsed": false
   },
   "outputs": [],
   "source": []
  }
 ],
 "metadata": {
  "kernelspec": {
   "display_name": "Python 3",
   "language": "python",
   "name": "python3"
  },
  "language_info": {
   "codemirror_mode": {
    "name": "ipython",
    "version": 3
   },
   "file_extension": ".py",
   "mimetype": "text/x-python",
   "name": "python",
   "nbconvert_exporter": "python",
   "pygments_lexer": "ipython3",
   "version": "3.5.1"
  }
 },
 "nbformat": 4,
 "nbformat_minor": 0
}
