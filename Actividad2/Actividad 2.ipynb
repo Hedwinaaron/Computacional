{
 "cells": [
  {
   "cell_type": "code",
   "execution_count": 7,
   "metadata": {
    "collapsed": false
   },
   "outputs": [
    {
     "name": "stdout",
     "output_type": "stream",
     "text": [
      "Proporciona la altura de la torre: 56\n",
      "El timepo que tarda la pelota en caer es: 3.3806170189140663\n"
     ]
    }
   ],
   "source": [
    "import math\n",
    "h = float(input(\"Proporciona la altura de la torre: \"))\n",
    "\n",
    "t = math.sqrt(2*h/9.8)\n",
    "\n",
    "print (\"El timepo que tarda la pelota en caer es:\" ,t)"
   ]
  },
  {
   "cell_type": "code",
   "execution_count": 6,
   "metadata": {
    "collapsed": false
   },
   "outputs": [
    {
     "name": "stdout",
     "output_type": "stream",
     "text": [
      "Introdusta el periodo en en segundos5633\n",
      "la altura del satelite deve de ser de 469271.0345082311 m\n"
     ]
    }
   ],
   "source": [
    "from math import pi\n",
    "T = float(input(\"Introdusta el periodo en en segundos\")) \n",
    "G = 6.67e-11\n",
    "M = 5.97e24\n",
    "R = 6371000.\n",
    "h = (((G*M*T**2)/(4*pi**2))**(1.0/3.0))-R\n",
    "print (\"la altura del satelite deve de ser de\",h,\"m\") \n"
   ]
  },
  {
   "cell_type": "code",
   "execution_count": 3,
   "metadata": {
    "collapsed": false
   },
   "outputs": [
    {
     "name": "stdout",
     "output_type": "stream",
     "text": [
      "Ingrese las coordenadas polares\n",
      "Introduce x: 5\n",
      "Ingresa y: 4\n",
      "Ingresa Z:6\n",
      "las coordenadas esfericas son\n",
      "Radio 8.774964387392123 theta 0.8178885561654512 Phi 0.8960553845713439\n"
     ]
    }
   ],
   "source": [
    "from math import acos, atan ,pi, sqrt\n",
    "print (\"Ingrese las coordenadas polares\")\n",
    "\n",
    "x = float(input(\"Introduce x: \"))\n",
    "\n",
    "y = float(input(\"Ingresa y: \"))\n",
    "\n",
    "z = float(input(\"Ingresa Z:\"))\n",
    "\n",
    "r = sqrt(x**2 + y**2 + z**2)\n",
    "\n",
    "theta = acos(z/r)\n",
    "\n",
    "phi = atan(x/y)\n",
    "\n",
    "print (\"las coordenadas esfericas son\")\n",
    "\n",
    "print(\"Radio\",r,\"theta\",theta,\"Phi\",phi )\n"
   ]
  },
  {
   "cell_type": "code",
   "execution_count": 9,
   "metadata": {
    "collapsed": false
   },
   "outputs": [
    {
     "name": "stdout",
     "output_type": "stream",
     "text": [
      "Secuencia de Catalan\n",
      "1.0\n",
      "1.0\n",
      "2.0\n",
      "5.0\n",
      "14.0\n",
      "42.0\n",
      "132.0\n",
      "429.0\n",
      "1430.0\n",
      "4862.0\n",
      "16796.0\n",
      "58786.0\n",
      "208012.0\n",
      "742900.0\n"
     ]
    }
   ],
   "source": [
    "print (\"Secuencia de Catalan\")\n",
    "n,c = 0.,1.\n",
    "while c<1000000:\n",
    "\n",
    "      print(c)\n",
    "\n",
    "      n,c = n+1,((2*(2*n+1))/(n+2))*c\n",
    "\n",
    " "
   ]
  },
  {
   "cell_type": "code",
   "execution_count": 8,
   "metadata": {
    "collapsed": false
   },
   "outputs": [
    {
     "name": "stdout",
     "output_type": "stream",
     "text": [
      "Enter an integer: 45\n",
      "odd\n"
     ]
    }
   ],
   "source": [
    "n = int(input(\"Enter an integer: \"))\n",
    "\n",
    "if n%2==0:\n",
    "\n",
    "     print(\"even\")\n",
    "\n",
    "else:\n",
    "\n",
    "     print(\"odd\")"
   ]
  }
 ],
 "metadata": {
  "kernelspec": {
   "display_name": "Python 3",
   "language": "python",
   "name": "python3"
  },
  "language_info": {
   "codemirror_mode": {
    "name": "ipython",
    "version": 3
   },
   "file_extension": ".py",
   "mimetype": "text/x-python",
   "name": "python",
   "nbconvert_exporter": "python",
   "pygments_lexer": "ipython3",
   "version": "3.5.1"
  }
 },
 "nbformat": 4,
 "nbformat_minor": 0
}
