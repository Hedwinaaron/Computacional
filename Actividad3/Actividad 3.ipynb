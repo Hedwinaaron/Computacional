{
 "cells": [
  {
   "cell_type": "code",
   "execution_count": 1,
   "metadata": {
    "collapsed": false
   },
   "outputs": [],
   "source": [
    "import numpy as np\n",
    "import matplotlib.pyplot as plt\n",
    "from scipy.interpolate import interp1d\n",
    "from math import sin\n",
    "# Original \"data set\" --- 21 random numbers between 0 and 1.\n",
    "\n",
    "x0 = np.random.random(10)\n",
    "x1 = 3*x0\n",
    "y0 = np.sin(2*x1)\n",
    "plt.plot(x1, y0, 'o', label='Datos')\n",
    "\n",
    "x = np.linspace(min(x1),max(x1),100)\n",
    "\n",
    "# Available options for interp1d\n",
    "options = ('linear', 'quadratic', 'cubic')\n",
    "\n",
    "for o in options:\n",
    "    f = interp1d(x1, y0, kind=o)    # interpolation function\n",
    "    plt.plot(x, f(x), label=o)      # plot of interpolated data\n",
    "\n",
    "plt.legend()\n",
    "plt.show()"
   ]
  },
  {
   "cell_type": "code",
   "execution_count": 6,
   "metadata": {
    "collapsed": false
   },
   "outputs": [],
   "source": [
    "import numpy as np\n",
    "import matplotlib.pyplot as plt\n",
    "from scipy.interpolate import interp1d\n",
    "from math import sin\n",
    "# Original \"data set\" --- 21 random numbers between 0 and 1.\n",
    "\n",
    "x0 = np.random.random(20)\n",
    "x1 = -10+(x0*20)\n",
    "y0 = np.sin(x1)/x1\n",
    "plt.plot(x1, y0, 'o', label='Datos')\n",
    "\n",
    "x = np.linspace(min(x1),max(x1),100)\n",
    "\n",
    "# Available options for interp1d\n",
    "options = ('linear', 'quadratic', 'cubic')\n",
    "\n",
    "for o in options:\n",
    "    f = interp1d(x1, y0, kind=o)    # interpolation function\n",
    "    plt.plot(x, f(x), label=o)      # plot of interpolated data\n",
    "\n",
    "plt.legend()\n",
    "plt.show()"
   ]
  },
  {
   "cell_type": "code",
   "execution_count": null,
   "metadata": {
    "collapsed": false
   },
   "outputs": [],
   "source": [
    "import numpy as np\n",
    "import matplotlib.pyplot as plt\n",
    "from scipy.interpolate import interp1d\n",
    "from math import sin\n",
    "# Original \"data set\" --- 21 random numbers between 0 and 1.\n",
    "\n",
    "x0 = np.random.random(16)\n",
    "x1 = -3+(x0*6)\n",
    "y0 = np.sin(x1*2)*(x1**2)\n",
    "plt.plot(x1, y0, 'o', label='Datos')\n",
    "\n",
    "x = np.linspace(min(x1),max(x1),100)\n",
    "\n",
    "# Available options for interp1d\n",
    "options = ('linear', 'quadratic', 'cubic')\n",
    "\n",
    "for o in options:\n",
    "    f = interp1d(x1, y0, kind=o)    # interpolation function\n",
    "    plt.plot(x, f(x), label=o)      # plot of interpolated data\n",
    "\n",
    "plt.legend()\n",
    "plt.show()"
   ]
  },
  {
   "cell_type": "code",
   "execution_count": 2,
   "metadata": {
    "collapsed": true
   },
   "outputs": [],
   "source": [
    "import numpy as np\n",
    "import matplotlib.pyplot as plt\n",
    "from scipy.interpolate import interp1d\n",
    "from math import sin\n",
    "# Original \"data set\" --- 21 random numbers between 0 and 1.\n",
    "x0 = np.random.random(12)\n",
    "x1 = -2+(x0*4)\n",
    "y0 = np.sin(x1*3)*(x1**3)\n",
    "plt.plot(x1, y0, 'o', label='Datos')\n",
    "\n",
    "x = np.linspace(min(x1),max(x1),100)\n",
    "\n",
    "# Available options for interp1d\n",
    "options = ('linear', 'quadratic', 'cubic')\n",
    "\n",
    "for o in options:\n",
    "    f = interp1d(x1, y0, kind=o)    # interpolation function\n",
    "    plt.plot(x, f(x), label=o)      # plot of interpolated data\n",
    "\n",
    "plt.legend()\n",
    "plt.show()"
   ]
  }
 ],
 "metadata": {
  "kernelspec": {
   "display_name": "Python 3",
   "language": "python",
   "name": "python3"
  },
  "language_info": {
   "codemirror_mode": {
    "name": "ipython",
    "version": 3
   },
   "file_extension": ".py",
   "mimetype": "text/x-python",
   "name": "python",
   "nbconvert_exporter": "python",
   "pygments_lexer": "ipython3",
   "version": "3.5.1"
  }
 },
 "nbformat": 4,
 "nbformat_minor": 0
}
